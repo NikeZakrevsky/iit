{
 "cells": [
  {
   "cell_type": "code",
   "execution_count": 17,
   "metadata": {},
   "outputs": [],
   "source": [
    "import re"
   ]
  },
  {
   "cell_type": "markdown",
   "metadata": {},
   "source": [
    "### page.russian_html\n",
    "!текст(Дезоксирибонуклеиновая кислота макромолекула обеспечивающая хранение передачу из поколения в поколение и реализацию генетической программы развития и функционирования живых организмов)\n",
    "\n",
    "### page1.russian_html\n",
    "!текст(Хромосомы нуклеопротеидные структуры в ядре эукариотической клетки в которых сосредоточена большая часть наследственной информации и которые предназначены для её хранения реализации и передачи Хромосомы чётко различимы в световом микроскопе только в период митотического или мейотического деления клетки Набор всех хромосом клетки называемый кариотипом является видоспецифичным признаком для которого характерен относительно низкий уровень индивидуальной изменчивости)"
   ]
  },
  {
   "cell_type": "code",
   "execution_count": 18,
   "metadata": {},
   "outputs": [],
   "source": [
    "def read_file(name):    \n",
    "    text = \"\"\n",
    "    with open(name) as file:\n",
    "        data = file.read()\n",
    "    data = list([line for line in data.split('\\n') if line != ''])\n",
    "    \n",
    "    tags_list = []\n",
    "    for line in data:\n",
    "        parsed_line = line.split('(')\n",
    "        text += parsed_line[1][:-1]\n",
    "        \n",
    "    return text"
   ]
  },
  {
   "cell_type": "code",
   "execution_count": 19,
   "metadata": {},
   "outputs": [],
   "source": [
    "def process_files(filenames):\n",
    "    file_to_terms = {}\n",
    "    for file in filenames:\n",
    "        pattern = re.compile('[\\W_]+')\n",
    "        file_to_terms[file] = read_file(file).lower();\n",
    "        file_to_terms[file] = pattern.sub(' ',file_to_terms[file])\n",
    "        re.sub(r'[\\W_]+','', file_to_terms[file])\n",
    "        file_to_terms[file] = file_to_terms[file].split()\n",
    "    return file_to_terms"
   ]
  },
  {
   "cell_type": "code",
   "execution_count": 20,
   "metadata": {},
   "outputs": [
    {
     "data": {
      "text/plain": [
       "{'page.russian_html': ['дезоксирибонуклеиновая',\n",
       "  'кислота',\n",
       "  'макромолекула',\n",
       "  'обеспечивающая',\n",
       "  'хранение',\n",
       "  'передачу',\n",
       "  'из',\n",
       "  'поколения',\n",
       "  'в',\n",
       "  'поколение',\n",
       "  'и',\n",
       "  'реализацию',\n",
       "  'генетической',\n",
       "  'программы',\n",
       "  'развития',\n",
       "  'и',\n",
       "  'функционирования',\n",
       "  'живых',\n",
       "  'организмов'],\n",
       " 'page1.russian_html': ['хромосомы',\n",
       "  'нуклеопротеидные',\n",
       "  'структуры',\n",
       "  'в',\n",
       "  'ядре',\n",
       "  'эукариотической',\n",
       "  'клетки',\n",
       "  'в',\n",
       "  'которых',\n",
       "  'сосредоточена',\n",
       "  'большая',\n",
       "  'часть',\n",
       "  'наследственной',\n",
       "  'информации',\n",
       "  'и',\n",
       "  'которые',\n",
       "  'предназначены',\n",
       "  'для',\n",
       "  'её',\n",
       "  'хранения',\n",
       "  'реализации',\n",
       "  'и',\n",
       "  'передачи',\n",
       "  'хромосомы',\n",
       "  'чётко',\n",
       "  'различимы',\n",
       "  'в',\n",
       "  'световом',\n",
       "  'микроскопе',\n",
       "  'только',\n",
       "  'в',\n",
       "  'период',\n",
       "  'митотического',\n",
       "  'или',\n",
       "  'мейотического',\n",
       "  'деления',\n",
       "  'клетки',\n",
       "  'набор',\n",
       "  'всех',\n",
       "  'хромосом',\n",
       "  'клетки',\n",
       "  'называемый',\n",
       "  'кариотипом',\n",
       "  'является',\n",
       "  'видоспецифичным',\n",
       "  'признаком',\n",
       "  'для',\n",
       "  'которого',\n",
       "  'характерен',\n",
       "  'относительно',\n",
       "  'низкий',\n",
       "  'уровень',\n",
       "  'индивидуальной',\n",
       "  'изменчивости']}"
      ]
     },
     "execution_count": 20,
     "metadata": {},
     "output_type": "execute_result"
    }
   ],
   "source": [
    "termlists = process_files(['page.russian_html', 'page1.russian_html'])\n",
    "termlists"
   ]
  },
  {
   "cell_type": "code",
   "execution_count": 21,
   "metadata": {},
   "outputs": [],
   "source": [
    "def index_one_file(termlist):\n",
    "    fileIndex = {}\n",
    "    for index, word in enumerate(termlist):\n",
    "        if word in fileIndex.keys():\n",
    "            fileIndex[word].append(index)\n",
    "        else:\n",
    "            fileIndex[word] = [index]\n",
    "    return fileIndex"
   ]
  },
  {
   "cell_type": "code",
   "execution_count": 22,
   "metadata": {},
   "outputs": [],
   "source": [
    "def make_indices(termlists):\n",
    "    total = {}\n",
    "    for filename in termlists.keys():\n",
    "        total[filename] = index_one_file(termlists[filename])\n",
    "    return total"
   ]
  },
  {
   "cell_type": "code",
   "execution_count": 23,
   "metadata": {},
   "outputs": [
    {
     "data": {
      "text/plain": [
       "{'page.russian_html': {'дезоксирибонуклеиновая': [0],\n",
       "  'кислота': [1],\n",
       "  'макромолекула': [2],\n",
       "  'обеспечивающая': [3],\n",
       "  'хранение': [4],\n",
       "  'передачу': [5],\n",
       "  'из': [6],\n",
       "  'поколения': [7],\n",
       "  'в': [8],\n",
       "  'поколение': [9],\n",
       "  'и': [10, 15],\n",
       "  'реализацию': [11],\n",
       "  'генетической': [12],\n",
       "  'программы': [13],\n",
       "  'развития': [14],\n",
       "  'функционирования': [16],\n",
       "  'живых': [17],\n",
       "  'организмов': [18]},\n",
       " 'page1.russian_html': {'хромосомы': [0, 23],\n",
       "  'нуклеопротеидные': [1],\n",
       "  'структуры': [2],\n",
       "  'в': [3, 7, 26, 30],\n",
       "  'ядре': [4],\n",
       "  'эукариотической': [5],\n",
       "  'клетки': [6, 36, 40],\n",
       "  'которых': [8],\n",
       "  'сосредоточена': [9],\n",
       "  'большая': [10],\n",
       "  'часть': [11],\n",
       "  'наследственной': [12],\n",
       "  'информации': [13],\n",
       "  'и': [14, 21],\n",
       "  'которые': [15],\n",
       "  'предназначены': [16],\n",
       "  'для': [17, 46],\n",
       "  'её': [18],\n",
       "  'хранения': [19],\n",
       "  'реализации': [20],\n",
       "  'передачи': [22],\n",
       "  'чётко': [24],\n",
       "  'различимы': [25],\n",
       "  'световом': [27],\n",
       "  'микроскопе': [28],\n",
       "  'только': [29],\n",
       "  'период': [31],\n",
       "  'митотического': [32],\n",
       "  'или': [33],\n",
       "  'мейотического': [34],\n",
       "  'деления': [35],\n",
       "  'набор': [37],\n",
       "  'всех': [38],\n",
       "  'хромосом': [39],\n",
       "  'называемый': [41],\n",
       "  'кариотипом': [42],\n",
       "  'является': [43],\n",
       "  'видоспецифичным': [44],\n",
       "  'признаком': [45],\n",
       "  'которого': [47],\n",
       "  'характерен': [48],\n",
       "  'относительно': [49],\n",
       "  'низкий': [50],\n",
       "  'уровень': [51],\n",
       "  'индивидуальной': [52],\n",
       "  'изменчивости': [53]}}"
      ]
     },
     "execution_count": 23,
     "metadata": {},
     "output_type": "execute_result"
    }
   ],
   "source": [
    "regdex = make_indices(termlists)\n",
    "regdex"
   ]
  },
  {
   "cell_type": "code",
   "execution_count": 24,
   "metadata": {},
   "outputs": [],
   "source": [
    "def fullIndex(regdex):\n",
    "    total_index = {}\n",
    "    for filename in regdex.keys():\n",
    "        for word in regdex[filename].keys():\n",
    "            if word in total_index.keys():\n",
    "                if filename in total_index[word].keys():\n",
    "                    total_index[word][filename].extend(regdex[filename][word][:])\n",
    "                else:\n",
    "                    total_index[word][filename] = regdex[filename][word]\n",
    "            else:\n",
    "                total_index[word] = {filename: regdex[filename][word]}\n",
    "    return total_index"
   ]
  },
  {
   "cell_type": "code",
   "execution_count": 25,
   "metadata": {},
   "outputs": [
    {
     "data": {
      "text/plain": [
       "{'дезоксирибонуклеиновая': {'page.russian_html': [0]},\n",
       " 'кислота': {'page.russian_html': [1]},\n",
       " 'макромолекула': {'page.russian_html': [2]},\n",
       " 'обеспечивающая': {'page.russian_html': [3]},\n",
       " 'хранение': {'page.russian_html': [4]},\n",
       " 'передачу': {'page.russian_html': [5]},\n",
       " 'из': {'page.russian_html': [6]},\n",
       " 'поколения': {'page.russian_html': [7]},\n",
       " 'в': {'page.russian_html': [8], 'page1.russian_html': [3, 7, 26, 30]},\n",
       " 'поколение': {'page.russian_html': [9]},\n",
       " 'и': {'page.russian_html': [10, 15], 'page1.russian_html': [14, 21]},\n",
       " 'реализацию': {'page.russian_html': [11]},\n",
       " 'генетической': {'page.russian_html': [12]},\n",
       " 'программы': {'page.russian_html': [13]},\n",
       " 'развития': {'page.russian_html': [14]},\n",
       " 'функционирования': {'page.russian_html': [16]},\n",
       " 'живых': {'page.russian_html': [17]},\n",
       " 'организмов': {'page.russian_html': [18]},\n",
       " 'хромосомы': {'page1.russian_html': [0, 23]},\n",
       " 'нуклеопротеидные': {'page1.russian_html': [1]},\n",
       " 'структуры': {'page1.russian_html': [2]},\n",
       " 'ядре': {'page1.russian_html': [4]},\n",
       " 'эукариотической': {'page1.russian_html': [5]},\n",
       " 'клетки': {'page1.russian_html': [6, 36, 40]},\n",
       " 'которых': {'page1.russian_html': [8]},\n",
       " 'сосредоточена': {'page1.russian_html': [9]},\n",
       " 'большая': {'page1.russian_html': [10]},\n",
       " 'часть': {'page1.russian_html': [11]},\n",
       " 'наследственной': {'page1.russian_html': [12]},\n",
       " 'информации': {'page1.russian_html': [13]},\n",
       " 'которые': {'page1.russian_html': [15]},\n",
       " 'предназначены': {'page1.russian_html': [16]},\n",
       " 'для': {'page1.russian_html': [17, 46]},\n",
       " 'её': {'page1.russian_html': [18]},\n",
       " 'хранения': {'page1.russian_html': [19]},\n",
       " 'реализации': {'page1.russian_html': [20]},\n",
       " 'передачи': {'page1.russian_html': [22]},\n",
       " 'чётко': {'page1.russian_html': [24]},\n",
       " 'различимы': {'page1.russian_html': [25]},\n",
       " 'световом': {'page1.russian_html': [27]},\n",
       " 'микроскопе': {'page1.russian_html': [28]},\n",
       " 'только': {'page1.russian_html': [29]},\n",
       " 'период': {'page1.russian_html': [31]},\n",
       " 'митотического': {'page1.russian_html': [32]},\n",
       " 'или': {'page1.russian_html': [33]},\n",
       " 'мейотического': {'page1.russian_html': [34]},\n",
       " 'деления': {'page1.russian_html': [35]},\n",
       " 'набор': {'page1.russian_html': [37]},\n",
       " 'всех': {'page1.russian_html': [38]},\n",
       " 'хромосом': {'page1.russian_html': [39]},\n",
       " 'называемый': {'page1.russian_html': [41]},\n",
       " 'кариотипом': {'page1.russian_html': [42]},\n",
       " 'является': {'page1.russian_html': [43]},\n",
       " 'видоспецифичным': {'page1.russian_html': [44]},\n",
       " 'признаком': {'page1.russian_html': [45]},\n",
       " 'которого': {'page1.russian_html': [47]},\n",
       " 'характерен': {'page1.russian_html': [48]},\n",
       " 'относительно': {'page1.russian_html': [49]},\n",
       " 'низкий': {'page1.russian_html': [50]},\n",
       " 'уровень': {'page1.russian_html': [51]},\n",
       " 'индивидуальной': {'page1.russian_html': [52]},\n",
       " 'изменчивости': {'page1.russian_html': [53]}}"
      ]
     },
     "execution_count": 25,
     "metadata": {},
     "output_type": "execute_result"
    }
   ],
   "source": [
    "invertedIndex = fullIndex(regdex)\n",
    "invertedIndex"
   ]
  },
  {
   "cell_type": "code",
   "execution_count": 32,
   "metadata": {},
   "outputs": [],
   "source": [
    "def one_word_query(word):\n",
    "    pattern = re.compile('[\\W_]+')\n",
    "    word = pattern.sub(' ',word)\n",
    "    if word in invertedIndex.keys():\n",
    "        return [filename for filename in invertedIndex[word].keys()]\n",
    "    else:\n",
    "        return []"
   ]
  },
  {
   "cell_type": "code",
   "execution_count": 33,
   "metadata": {},
   "outputs": [],
   "source": [
    "def free_text_query(string):\n",
    "    pattern = re.compile('[\\W_]+')\n",
    "    string = pattern.sub(' ',string)\n",
    "    result = []\n",
    "    for word in string.split():\n",
    "        result += one_word_query(word)\n",
    "    return list(set(result))"
   ]
  },
  {
   "cell_type": "code",
   "execution_count": 36,
   "metadata": {},
   "outputs": [
    {
     "data": {
      "text/plain": [
       "['page.russian_html']"
      ]
     },
     "execution_count": 36,
     "metadata": {},
     "output_type": "execute_result"
    }
   ],
   "source": [
    "free_text_query('дезоксирибонуклеиновая кислота')"
   ]
  },
  {
   "cell_type": "code",
   "execution_count": 35,
   "metadata": {},
   "outputs": [
    {
     "data": {
      "text/plain": [
       "['page1.russian_html']"
      ]
     },
     "execution_count": 35,
     "metadata": {},
     "output_type": "execute_result"
    }
   ],
   "source": [
    "free_text_query('хромосом')"
   ]
  }
 ],
 "metadata": {
  "kernelspec": {
   "display_name": "Python 3",
   "language": "python",
   "name": "python3"
  },
  "language_info": {
   "codemirror_mode": {
    "name": "ipython",
    "version": 3
   },
   "file_extension": ".py",
   "mimetype": "text/x-python",
   "name": "python",
   "nbconvert_exporter": "python",
   "pygments_lexer": "ipython3",
   "version": "3.7.5"
  }
 },
 "nbformat": 4,
 "nbformat_minor": 4
}
